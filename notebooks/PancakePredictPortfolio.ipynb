{
 "cells": [
  {
   "cell_type": "markdown",
   "metadata": {},
   "source": [
    "# Collecting the data\n",
    "First we have to get all the needed data. We will use web3py with Pancake bet contract (0x0E3A8078EDD2021dadcdE733C6b4a86E51EE8f07) and requests with bscscan API."
   ]
  },
  {
   "cell_type": "markdown",
   "metadata": {},
   "source": [
    "Add needed modules folders:"
   ]
  },
  {
   "cell_type": "code",
   "execution_count": null,
   "metadata": {},
   "outputs": [],
   "source": [
    "import sys\n",
    "import os\n",
    "\n",
    "module_path = os.path.abspath(os.path.join('..'))\n",
    "if module_path not in sys.path:\n",
    "    sys.path.append(module_path)\n",
    "\n",
    "if module_path + '/src' not in sys.path:\n",
    "    sys.path.append(module_path + '/src')\n",
    "\n",
    "# os.chdir(\"..\")\n",
    "\n",
    "print(os.getcwd())"
   ]
  },
  {
   "cell_type": "markdown",
   "metadata": {},
   "source": [
    "## Getting active players\r\n",
    "Use get_active_players.py main() with start and end time. It may be required to change the main function loop to iterate through more past transactions.\r\n",
    "Also change CURRENT_BLOCK_NUMBER to the current one - to start checking transactions before this block."
   ]
  },
  {
   "cell_type": "code",
   "execution_count": null,
   "metadata": {},
   "outputs": [],
   "source": [
    "import datetime\n",
    "\n",
    "import get_active_players\n",
    "\n",
    "# The same timeframe as for the training set\n",
    "time_from_active_players = int(datetime.datetime(2022, 10, 28, 0, 0).timestamp())\n",
    "time_to_active_players = int(datetime.datetime(2022, 12, 28, 0, 0).timestamp())\n",
    "active_players_file = f'../data/active_players_2months.csv'\n",
    "\n",
    "get_active_players.make_active_players_file(time_from_active_players, time_to_active_players, 70, active_players_file)"
   ]
  },
  {
   "cell_type": "markdown",
   "metadata": {},
   "source": [
    "List of active players and their occurence within given timeframe:"
   ]
  },
  {
   "cell_type": "code",
   "execution_count": null,
   "metadata": {},
   "outputs": [],
   "source": [
    "import pandas as pd\n",
    "active_players_df = pd.read_csv(active_players_file, index_col=False)\n",
    "\n",
    "active_players_df"
   ]
  },
  {
   "cell_type": "markdown",
   "metadata": {},
   "source": [
    "Let's select only players that have made more than 100 bets in the selected timeframe."
   ]
  },
  {
   "cell_type": "code",
   "execution_count": null,
   "metadata": {},
   "outputs": [],
   "source": [
    "# List of players to download data of (you can get them from the \"Getting active players\" section or from the Pancake Prediction leaderboard)\n",
    "main_wallets_list = active_players_df.loc[active_players_df['count'] > 100, 'player'].tolist()\n",
    "print(f\"Selected {len(main_wallets_list)} wallets\")\n"
   ]
  },
  {
   "cell_type": "markdown",
   "metadata": {},
   "source": [
    "## Downloading and preparing the data"
   ]
  },
  {
   "cell_type": "markdown",
   "metadata": {},
   "source": [
    "### All needed variables"
   ]
  },
  {
   "cell_type": "code",
   "execution_count": null,
   "metadata": {},
   "outputs": [],
   "source": [
    "# Timeframe to do all the computing (Training + Validation + Test sets)\n",
    "time_from_get_bets = int(datetime.datetime(2022, 10, 28, 0, 0).timestamp())\n",
    "time_to_get_bets = int(datetime.datetime(2023, 1, 28, 0, 0).timestamp())\n",
    "\n",
    "  # to get all the transactions from bscscan api (depends on the time_from_get_bets)\n",
    "block_from_get_bets = 22394098\n",
    "block_to_get_bets = 25624791\n",
    "\n",
    "# Downloading players bet history settings\n",
    "players_data_folder = '../data/players_data/'\n",
    "\n",
    "# Download rounds settings (check the rounds range according to the time_from_get_bets and time_to_get_bets values in the blockchain)\n",
    "from_round = 36000\n",
    "to_round = 65000\n",
    "rounds_file = '../data/rounds_data/final_rounds_data.csv'\n",
    "\n",
    "# Final data\n",
    "final_data_folder = '../data/merged_data/'"
   ]
  },
  {
   "cell_type": "markdown",
   "metadata": {},
   "source": [
    "### Downloading players bet history\r\n",
    "We have to collect every needed player transaction data and save to separate JSON files."
   ]
  },
  {
   "cell_type": "code",
   "execution_count": null,
   "metadata": {},
   "outputs": [],
   "source": [
    "import download_players_bets\n",
    "print(len(main_wallets_list))\n",
    "download_players_bets.main_concurrent(main_wallets_list, players_data_folder, block_from_get_bets, block_to_get_bets)"
   ]
  },
  {
   "cell_type": "markdown",
   "metadata": {},
   "source": [
    "### Downloading rounds history\n",
    "Use web3py to download all the rounds info and save it to the file."
   ]
  },
  {
   "cell_type": "code",
   "execution_count": null,
   "metadata": {},
   "outputs": [],
   "source": [
    "import download_rounds\n",
    "downloader = download_rounds.RoundsDownloader()\n",
    "\n",
    "data = downloader.download_rounds(from_round, to_round)  # Download rounds FROM-TO, we only need the last few months\n",
    "downloader.save_rounds(rounds_file, data)"
   ]
  },
  {
   "cell_type": "markdown",
   "metadata": {},
   "source": [
    "## Preparing the data\n",
    "Before using all the data we have to create dataframes in CSV files with all the needed stuff in one place\n",
    "The data will be stored in 2 saparate CSV files - one containing the info about the bet type of each analyzed player, the other one about the bet size"
   ]
  },
  {
   "cell_type": "code",
   "execution_count": null,
   "metadata": {},
   "outputs": [],
   "source": [
    "import analyze_players\n",
    "\n",
    "rounds_df = analyze_players.load_rounds_data(rounds_file)\n",
    "    \n",
    "analyze_players.create_final_csv_files(players_data_folder, final_data_folder, rounds_df)"
   ]
  },
  {
   "cell_type": "markdown",
   "metadata": {},
   "source": [
    "final_bet_amount.csv file contains data about all the rounds and separate columns for each players bet amount"
   ]
  },
  {
   "cell_type": "code",
   "execution_count": null,
   "metadata": {},
   "outputs": [],
   "source": [
    "final_bet_amount_df = pd.read_csv(f'{final_data_folder}final_bet_amount.csv')\n",
    "final_bet_amount_df"
   ]
  },
  {
   "cell_type": "markdown",
   "metadata": {},
   "source": [
    "final_bet_amount.csv file contains data about all the rounds and separate columns for each players bet amount"
   ]
  },
  {
   "cell_type": "code",
   "execution_count": null,
   "metadata": {},
   "outputs": [],
   "source": [
    "final_player_bet_df = pd.read_csv(f'{final_data_folder}final_player_bet.csv', low_memory=False)\n",
    "final_player_bet_df"
   ]
  },
  {
   "cell_type": "markdown",
   "metadata": {},
   "source": [
    "## Selecting the best players\n",
    "We have collected the data about the active players in the given dataframe, but not all players are worth following. Let's check what players have high win ratio or made the most money"
   ]
  },
  {
   "cell_type": "markdown",
   "metadata": {},
   "source": [
    "### Selecting the timeframe for training&validation&test sets\r\n",
    "We have downloaded the data in timeframe:\r\n",
    "2022.10.28 - 2023.01.28\r\n",
    "\r\n",
    "Let's make the first 2 months to be the training set, 1/2 month validation set and 1/2 month test set"
   ]
  },
  {
   "cell_type": "code",
   "execution_count": null,
   "metadata": {},
   "outputs": [],
   "source": [
    "import datetime\n",
    "import pandas as pd\n",
    "\n",
    "time_from_training = int(datetime.datetime(2022, 10, 28, 0, 0).timestamp())\n",
    "time_to_training = int(datetime.datetime(2022, 12, 28, 0, 0).timestamp())\n",
    "\n",
    "time_from_validation = int(datetime.datetime(2022, 12, 28, 0, 0).timestamp())\n",
    "time_to_validation = int(datetime.datetime(2023, 1, 13, 0, 0).timestamp())\n",
    "\n",
    "time_from_test = int(datetime.datetime(2023, 1, 13, 0, 0).timestamp())\n",
    "time_to_test = int(datetime.datetime(2023, 1, 28, 0, 0).timestamp())\n"
   ]
  },
  {
   "cell_type": "markdown",
   "metadata": {},
   "source": [
    "### Players metrics\n",
    "Let's check how many bets were actually good for each player (win ratio) and how many CAKE tokens each player earned in total and per bet. To not affect the test set, consider only data in the training set timeframe."
   ]
  },
  {
   "cell_type": "code",
   "execution_count": null,
   "metadata": {},
   "outputs": [],
   "source": [
    "import check_players_results\n",
    "import utils\n",
    "\n",
    "player_bet_df, bet_amount_df = utils.load_players_data(time_from_training, time_to_training)\n",
    "\n",
    "players_metrics_df = check_players_results.get_players_metrics(player_bet_df, bet_amount_df)\n",
    "players_metrics_df.sort_values(by='total_profit', ascending=False)"
   ]
  },
  {
   "cell_type": "code",
   "execution_count": null,
   "metadata": {},
   "outputs": [],
   "source": [
    "players_metrics_df[['total_profit', 'profit_per_bet']].hist(bins=20)"
   ]
  },
  {
   "cell_type": "markdown",
   "metadata": {},
   "source": [
    "# Training the models\n",
    "\n",
    "Now we can use all the collected data for simulation purposes.\n"
   ]
  },
  {
   "cell_type": "markdown",
   "metadata": {},
   "source": [
    "## Simulating the environment\n",
    "Since placing a bet affects the game environment (when you add money to the pool, the payout multipliers change) we have to use a simulator"
   ]
  },
  {
   "cell_type": "markdown",
   "metadata": {},
   "source": [
    "### Copytrading each player\n",
    "Copytrading one player at a time, works similar to just calculating his overall profit - but if we place a bet we make changes to the environment and change the pool. So if we place the same bet as player X, both of us will make less money (assuming we win) than if he played alone."
   ]
  },
  {
   "cell_type": "code",
   "execution_count": null,
   "metadata": {},
   "outputs": [],
   "source": [
    "import simulator\n",
    "player_bet_df, bet_amount_df = utils.load_players_data(time_from_training, time_to_training)\n",
    "\n",
    "# Get all wallets from player_bet_df\n",
    "wallets = player_bet_df.columns.to_list()\n",
    "not_players_list = ['epoch', 'start_timestamp', 'lock_timestamp', 'close_timestamp', 'lock_price', 'close_price',\n",
    "                    'total_amount', 'bull_amount', 'bear_amount', 'position']\n",
    "wallets = [wallet for wallet in wallets if wallet not in not_players_list]\n",
    "\n",
    "data = []\n",
    "for wallet in wallets:\n",
    "    trades_data = simulator.copy_trade_player(player_bet_df, bet_amount_df, wallet)\n",
    "    data.append({'wallet': wallet, 'profit': trades_data['profit'].sum()})\n",
    "\n",
    "df = pd.DataFrame(data)\n",
    "\n",
    "df.sort_values(by='profit', ascending=False)"
   ]
  },
  {
   "cell_type": "code",
   "execution_count": null,
   "metadata": {},
   "outputs": [],
   "source": [
    "# Histogram with the profit results, we can see the curve is Gaussian-like\n",
    "df['profit'].hist(bins=50)"
   ]
  },
  {
   "cell_type": "code",
   "execution_count": null,
   "metadata": {},
   "outputs": [],
   "source": []
  }
 ],
 "metadata": {
  "kernelspec": {
   "display_name": "Python 3 (ipykernel)",
   "language": "python",
   "name": "python3"
  },
  "language_info": {
   "codemirror_mode": {
    "name": "ipython",
    "version": 3
   },
   "file_extension": ".py",
   "mimetype": "text/x-python",
   "name": "python",
   "nbconvert_exporter": "python",
   "pygments_lexer": "ipython3",
   "version": "3.8.17"
  },
  "toc-autonumbering": true,
  "toc-showcode": false,
  "toc-showmarkdowntxt": false
 },
 "nbformat": 4,
 "nbformat_minor": 4
}
